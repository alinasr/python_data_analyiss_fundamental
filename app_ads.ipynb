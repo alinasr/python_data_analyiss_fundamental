{
 "cells": [
  {
   "cell_type": "markdown",
   "metadata": {},
   "source": [
    "## Finding Profitable free apps for IOS and Android \n",
    "\n",
    "The company build only free download and install apps. The only profit is form in-app adds. This mean more users and installers who see the ads, more profit will the company have.\n",
    "\n",
    "The goal of this project is to help the company developers to find out what types of apps attracts more users\n",
    "\n",
    "There is almost 4 million apps in both Appstore and Google play. It is a big data so we only want to use the fraction of it.\n",
    "\n",
    "We will use two smaller data sets for this projects:\n",
    "\n",
    "First one is for android apps, approximately 10,000 apps [Link](https://www.kaggle.com/lava18/google-play-store-apps/home)\n",
    "And the second one is for IOS apps, approximately 7,000 apps [Link](https://www.kaggle.com/ramamet4/app-store-apple-data-set-10k-apps/home)\n",
    "\n",
    "We start with writing exploring data function which makes observing the data more easer\n"
   ]
  },
  {
   "cell_type": "code",
   "execution_count": 1,
   "metadata": {},
   "outputs": [],
   "source": [
    "def explore_data(dataset, start, end, rows_and_columns=False):\n",
    "    dataset_slice = dataset[start:end]    \n",
    "    for row in dataset_slice:\n",
    "        print(row)\n",
    "        print('\\n') # adds a new (empty) line after each row\n",
    "\n",
    "    if rows_and_columns:\n",
    "        print('Number of rows:', len(dataset))\n",
    "        print('Number of columns:', len(dataset[0]))\n",
    "        print('\\n') # adds a new (empty) line after each row"
   ]
  },
  {
   "cell_type": "markdown",
   "metadata": {},
   "source": [
    "Blow we first imported the necessary modules\n",
    "\n",
    "We defined the 'open_file' function which is responsible for opening .csv files and return the data as a list\n",
    "As you can see in we printed some rows from each data sets and printed the number of rows and columns for each data sets\n"
   ]
  },
  {
   "cell_type": "code",
   "execution_count": 2,
   "metadata": {},
   "outputs": [
    {
     "name": "stdout",
     "output_type": "stream",
     "text": [
      "[['', 'id', 'track_name', 'size_bytes', 'currency', 'price', 'rating_count_tot', 'rating_count_ver', 'user_rating', 'user_rating_ver', 'ver', 'cont_rating', 'prime_genre', 'sup_devices.num', 'ipadSc_urls.num', 'lang.num', 'vpp_lic']]\n",
      "\n",
      "\n",
      "['1', '281656475', 'PAC-MAN Premium', '100788224', 'USD', '3.99', '21292', '26', '4', '4.5', '6.3.5', '4+', 'Games', '38', '5', '10', '1']\n",
      "\n",
      "\n",
      "['2', '281796108', 'Evernote - stay organized', '158578688', 'USD', '0', '161065', '26', '4', '3.5', '8.2.2', '4+', 'Productivity', '37', '5', '23', '1']\n",
      "\n",
      "\n",
      "['3', '281940292', 'WeatherBug - Local Weather, Radar, Maps, Alerts', '100524032', 'USD', '0', '188583', '2822', '3.5', '4.5', '5.0.0', '4+', 'Weather', '37', '5', '3', '1']\n",
      "\n",
      "\n",
      "Number of rows: 7197\n",
      "Number of columns: 17\n",
      "\n",
      "\n",
      "[['App', 'Category', 'Rating', 'Reviews', 'Size', 'Installs', 'Type', 'Price', 'Content Rating', 'Genres', 'Last Updated', 'Current Ver', 'Android Ver']]\n",
      "\n",
      "\n",
      "['Photo Editor & Candy Camera & Grid & ScrapBook', 'ART_AND_DESIGN', '4.1', '159', '19M', '10,000+', 'Free', '0', 'Everyone', 'Art & Design', 'January 7, 2018', '1.0.0', '4.0.3 and up']\n",
      "\n",
      "\n",
      "['Coloring book moana', 'ART_AND_DESIGN', '3.9', '967', '14M', '500,000+', 'Free', '0', 'Everyone', 'Art & Design;Pretend Play', 'January 15, 2018', '2.0.0', '4.0.3 and up']\n",
      "\n",
      "\n",
      "['U Launcher Lite – FREE Live Cool Themes, Hide Apps', 'ART_AND_DESIGN', '4.7', '87510', '8.7M', '5,000,000+', 'Free', '0', 'Everyone', 'Art & Design', 'August 1, 2018', '1.2.4', '4.0.3 and up']\n",
      "\n",
      "\n",
      "Number of rows: 10841\n",
      "Number of columns: 13\n",
      "\n",
      "\n"
     ]
    }
   ],
   "source": [
    "from csv import reader\n",
    "\n",
    "appstore_file_name = 'AppleStore.csv'\n",
    "googleplaystore_file_name = 'googleplaystore.csv'\n",
    "\n",
    "def open_file(file_name):\n",
    "    opened_file = open(file_name, encoding = 'utf8')\n",
    "    read_file = reader(opened_file)\n",
    "    dataset = list(read_file)\n",
    "    return dataset[1:], dataset[0:1]\n",
    "\n",
    "\n",
    "\n",
    "data_appstore, appstore_header = open_file(appstore_file_name)\n",
    "data_google, google_header = open_file(googleplaystore_file_name)\n",
    "\n",
    "print(appstore_header)\n",
    "print(\"\\n\")\n",
    "explore_data(data_appstore, 0, 3, rows_and_columns = True)\n",
    "\n",
    "\n",
    "print(google_header)\n",
    "print(\"\\n\")\n",
    "explore_data(data_google, 0, 3, rows_and_columns = True)"
   ]
  },
  {
   "cell_type": "markdown",
   "metadata": {},
   "source": [
    "As mentioned in the discussion page of the data set there is a wrong data in the row 10473 from the 'googleplayestore' data set. we printed that row in blow as you can see and then in the next cell we deleted the wrong data"
   ]
  },
  {
   "cell_type": "code",
   "execution_count": 3,
   "metadata": {},
   "outputs": [
    {
     "name": "stdout",
     "output_type": "stream",
     "text": [
      "['Life Made WI-Fi Touchscreen Photo Frame', '1.9', '19', '3.0M', '1,000+', 'Free', '0', 'Everyone', '', 'February 11, 2018', '1.0.19', '4.0 and up']\n",
      "\n",
      "\n"
     ]
    }
   ],
   "source": [
    "explore_data(data_google, 10472, 10473)"
   ]
  },
  {
   "cell_type": "code",
   "execution_count": 4,
   "metadata": {},
   "outputs": [],
   "source": [
    "del data_google[10472]"
   ]
  },
  {
   "cell_type": "markdown",
   "metadata": {},
   "source": [
    "There is a lot of duplicated applications in data sets as you can see as an example blow Instagram app repeated 4 times in 'googleplaystore' data set"
   ]
  },
  {
   "cell_type": "code",
   "execution_count": 5,
   "metadata": {},
   "outputs": [
    {
     "name": "stdout",
     "output_type": "stream",
     "text": [
      "['Instagram', 'SOCIAL', '4.5', '66577313', 'Varies with device', '1,000,000,000+', 'Free', '0', 'Teen', 'Social', 'July 31, 2018', 'Varies with device', 'Varies with device']\n",
      "['Instagram', 'SOCIAL', '4.5', '66577446', 'Varies with device', '1,000,000,000+', 'Free', '0', 'Teen', 'Social', 'July 31, 2018', 'Varies with device', 'Varies with device']\n",
      "['Instagram', 'SOCIAL', '4.5', '66577313', 'Varies with device', '1,000,000,000+', 'Free', '0', 'Teen', 'Social', 'July 31, 2018', 'Varies with device', 'Varies with device']\n",
      "['Instagram', 'SOCIAL', '4.5', '66509917', 'Varies with device', '1,000,000,000+', 'Free', '0', 'Teen', 'Social', 'July 31, 2018', 'Varies with device', 'Varies with device']\n"
     ]
    }
   ],
   "source": [
    "for app in data_google:\n",
    "    name = app[0]\n",
    "    if name == 'Instagram':\n",
    "        print(app)"
   ]
  },
  {
   "cell_type": "markdown",
   "metadata": {},
   "source": [
    "There is 1181 duplicated app in 'googleplayestore' data set. The code blow is responsible to calculate this number as you can see.\n",
    "\n",
    "We need to remove duplicated apps from our data set.\n",
    "The best ways is to keep the row with highest number of reviews because it indicates that data is the latest one and it is more valuable than old dates with low number of reviews\n"
   ]
  },
  {
   "cell_type": "code",
   "execution_count": 6,
   "metadata": {},
   "outputs": [
    {
     "name": "stdout",
     "output_type": "stream",
     "text": [
      "numer of duplicated apps is:  1181\n",
      "\n",
      "\n"
     ]
    }
   ],
   "source": [
    "duplicates = []\n",
    "uniques = []\n",
    "for app in data_google:\n",
    "    name = app[0]\n",
    "    if name in uniques:\n",
    "        duplicates.append(name)\n",
    "    else:\n",
    "        uniques.append(name)\n",
    "            \n",
    "print(\"numer of duplicated apps is: \", len(duplicates))\n",
    "print(\"\\n\")\n",
    "#print(uniques)"
   ]
  },
  {
   "cell_type": "markdown",
   "metadata": {},
   "source": [
    "In this important phase we first we want to indicate the rows for same apps with highest number of reviews.\n",
    "We first define an empty dictionary\n",
    "Then we iterate over our googlepalay data set\n",
    "If the apps name is already in the dictionary we check if it is the app with high number of reviews if not we replay the number with new one. In this case we have highest number of reviews for each apps which will be used in next step\n"
   ]
  },
  {
   "cell_type": "code",
   "execution_count": 7,
   "metadata": {},
   "outputs": [
    {
     "name": "stdout",
     "output_type": "stream",
     "text": [
      "9659\n"
     ]
    }
   ],
   "source": [
    "reviews_max = {}\n",
    "for apps in data_google:\n",
    "    name = apps[0]\n",
    "    n_reviews = float(apps[3])\n",
    "    if name in reviews_max:\n",
    "        if reviews_max[name] < n_reviews:\n",
    "            reviews_max[name] = n_reviews\n",
    "    elif name not in reviews_max:\n",
    "        reviews_max[name] = n_reviews\n",
    "        \n",
    "\n",
    "print(len(reviews_max))\n",
    "    "
   ]
  },
  {
   "cell_type": "markdown",
   "metadata": {},
   "source": [
    "As we can see there is 9659 unique apps from the lengths of 'reviews_max' dictionary.\n",
    "\n",
    "In the next step we make our new and clean data set out of old data set\n",
    "\n",
    "For each row we compare number of reviews with max reviews if it is equal to maximum number we add row to new data set\n",
    "\n",
    "We add that particular app to 'already_added' list to ensure not to add it again and make duplicates\n"
   ]
  },
  {
   "cell_type": "code",
   "execution_count": 8,
   "metadata": {},
   "outputs": [
    {
     "name": "stdout",
     "output_type": "stream",
     "text": [
      "9659\n",
      "[['Photo Editor & Candy Camera & Grid & ScrapBook', 'ART_AND_DESIGN', '4.1', '159', '19M', '10,000+', 'Free', '0', 'Everyone', 'Art & Design', 'January 7, 2018', '1.0.0', '4.0.3 and up'], ['U Launcher Lite – FREE Live Cool Themes, Hide Apps', 'ART_AND_DESIGN', '4.7', '87510', '8.7M', '5,000,000+', 'Free', '0', 'Everyone', 'Art & Design', 'August 1, 2018', '1.2.4', '4.0.3 and up'], ['Sketch - Draw & Paint', 'ART_AND_DESIGN', '4.5', '215644', '25M', '50,000,000+', 'Free', '0', 'Teen', 'Art & Design', 'June 8, 2018', 'Varies with device', '4.2 and up']]\n"
     ]
    }
   ],
   "source": [
    "data_google_clean = []\n",
    "already_added = []\n",
    "\n",
    "for apps in data_google:\n",
    "    name = apps[0]\n",
    "    n_reviews = float(apps[3])\n",
    "    \n",
    "    if n_reviews == reviews_max[name] and name not in already_added:\n",
    "        data_google_clean.append(apps)\n",
    "        already_added.append(name)\n",
    "        \n",
    "        \n",
    "print(len(data_google_clean))\n",
    "print(data_google_clean[0:3])\n",
    "        \n",
    "    "
   ]
  },
  {
   "cell_type": "markdown",
   "metadata": {},
   "source": [
    "In the code blow we just defined a function which is responsible to detect non English strings by simply checking Ascii number"
   ]
  },
  {
   "cell_type": "code",
   "execution_count": 9,
   "metadata": {},
   "outputs": [
    {
     "name": "stdout",
     "output_type": "stream",
     "text": [
      "True\n",
      "False\n",
      "False\n",
      "False\n",
      "8482\n",
      "128540\n"
     ]
    }
   ],
   "source": [
    "def english_or_not_test(a_string):\n",
    "    for character in a_string:\n",
    "        if ord(character) > 127:\n",
    "            return False\n",
    "    return True\n",
    "        \n",
    "\n",
    "print(english_or_not_test('Instagram'))\n",
    "print(english_or_not_test('爱奇艺PPS -《欢乐颂2》电视剧热播'))\n",
    "print(english_or_not_test('Docs To Go™ Free Office Suite'))\n",
    "print(english_or_not_test('Instachat 😜'))\n",
    "\n",
    "print(ord('™'))\n",
    "print(ord('😜'))"
   ]
  },
  {
   "cell_type": "markdown",
   "metadata": {},
   "source": [
    "As we can see in above there is a problem in our function it detect English name with some characters like emoji's as a non-English name. Because as we can see the Ascii number for some of them in above the Ascii is higher than 127. To solve this problem we check if there is more than 3 characters with Ascii number higher than 127 then the name is non-English. This prevent a lot of data loss."
   ]
  },
  {
   "cell_type": "code",
   "execution_count": 10,
   "metadata": {},
   "outputs": [
    {
     "name": "stdout",
     "output_type": "stream",
     "text": [
      "True\n",
      "False\n",
      "True\n",
      "True\n"
     ]
    }
   ],
   "source": [
    "def english_or_not(a_string):\n",
    "    numb = 0\n",
    "    for character in a_string:\n",
    "        if ord(character) > 127:\n",
    "            numb +=1\n",
    "            if numb > 3:\n",
    "                return False\n",
    "    return True\n",
    "\n",
    "print(english_or_not('Instagram'))\n",
    "print(english_or_not('爱奇艺PPS -《欢乐颂2》电视剧热播'))\n",
    "print(english_or_not('Docs To Go™ Free Office Suite'))\n",
    "print(english_or_not('Instachat 😜'))"
   ]
  },
  {
   "cell_type": "markdown",
   "metadata": {},
   "source": [
    "Finally to get our English data sets we apply our English name detector function to each row of each data sets and keep only row with English app names the new numbers of rows demonstrated as you can see"
   ]
  },
  {
   "cell_type": "code",
   "execution_count": 11,
   "metadata": {},
   "outputs": [
    {
     "name": "stdout",
     "output_type": "stream",
     "text": [
      "7197\n",
      "['Photo Editor & Candy Camera & Grid & ScrapBook', 'ART_AND_DESIGN', '4.1', '159', '19M', '10,000+', 'Free', '0', 'Everyone', 'Art & Design', 'January 7, 2018', '1.0.0', '4.0.3 and up']\n",
      "\n",
      "\n",
      "['U Launcher Lite – FREE Live Cool Themes, Hide Apps', 'ART_AND_DESIGN', '4.7', '87510', '8.7M', '5,000,000+', 'Free', '0', 'Everyone', 'Art & Design', 'August 1, 2018', '1.2.4', '4.0.3 and up']\n",
      "\n",
      "\n",
      "['Sketch - Draw & Paint', 'ART_AND_DESIGN', '4.5', '215644', '25M', '50,000,000+', 'Free', '0', 'Teen', 'Art & Design', 'June 8, 2018', 'Varies with device', '4.2 and up']\n",
      "\n",
      "\n",
      "Number of rows: 9614\n",
      "Number of columns: 13\n",
      "\n",
      "\n",
      "['1', '281656475', 'PAC-MAN Premium', '100788224', 'USD', '3.99', '21292', '26', '4', '4.5', '6.3.5', '4+', 'Games', '38', '5', '10', '1']\n",
      "\n",
      "\n",
      "['2', '281796108', 'Evernote - stay organized', '158578688', 'USD', '0', '161065', '26', '4', '3.5', '8.2.2', '4+', 'Productivity', '37', '5', '23', '1']\n",
      "\n",
      "\n",
      "['3', '281940292', 'WeatherBug - Local Weather, Radar, Maps, Alerts', '100524032', 'USD', '0', '188583', '2822', '3.5', '4.5', '5.0.0', '4+', 'Weather', '37', '5', '3', '1']\n",
      "\n",
      "\n",
      "Number of rows: 6183\n",
      "Number of columns: 17\n",
      "\n",
      "\n"
     ]
    }
   ],
   "source": [
    "data_google_english = []\n",
    "data_appstore_english = []\n",
    "\n",
    "for apps in data_google_clean:\n",
    "    name = apps[0]\n",
    "    if (english_or_not(name)):\n",
    "        data_google_english.append(apps)\n",
    "        \n",
    "for apps in data_appstore:\n",
    "    name = apps[2]\n",
    "    if (english_or_not(name)):\n",
    "        data_appstore_english.append(apps)\n",
    "        \n",
    "print(len(data_appstore))\n",
    "explore_data(data_google_english,0,3, True)\n",
    "explore_data(data_appstore_english,0,3, True)\n",
    "\n",
    " \n",
    "\n",
    "    "
   ]
  },
  {
   "cell_type": "markdown",
   "metadata": {},
   "source": [
    "Now it is the time to filter free apps.\n",
    "\n",
    "In the code blow we check the price for each row and keep the rows with 0.0 price\n",
    "\n",
    "for google paly data set there was a problem about \"$\" sign in some rows and as you can see we first check for presence of the sign in the string then only change the rest of string to float number\n",
    "\n",
    "At last we showed final number of rows for final data sets\n"
   ]
  },
  {
   "cell_type": "code",
   "execution_count": 13,
   "metadata": {},
   "outputs": [
    {
     "name": "stdout",
     "output_type": "stream",
     "text": [
      "['Photo Editor & Candy Camera & Grid & ScrapBook', 'ART_AND_DESIGN', '4.1', '159', '19M', '10,000+', 'Free', '0', 'Everyone', 'Art & Design', 'January 7, 2018', '1.0.0', '4.0.3 and up']\n",
      "\n",
      "\n",
      "['U Launcher Lite – FREE Live Cool Themes, Hide Apps', 'ART_AND_DESIGN', '4.7', '87510', '8.7M', '5,000,000+', 'Free', '0', 'Everyone', 'Art & Design', 'August 1, 2018', '1.2.4', '4.0.3 and up']\n",
      "\n",
      "\n",
      "['Sketch - Draw & Paint', 'ART_AND_DESIGN', '4.5', '215644', '25M', '50,000,000+', 'Free', '0', 'Teen', 'Art & Design', 'June 8, 2018', 'Varies with device', '4.2 and up']\n",
      "\n",
      "\n",
      "Number of rows: 8864\n",
      "Number of columns: 13\n",
      "\n",
      "\n",
      "['2', '281796108', 'Evernote - stay organized', '158578688', 'USD', '0', '161065', '26', '4', '3.5', '8.2.2', '4+', 'Productivity', '37', '5', '23', '1']\n",
      "\n",
      "\n",
      "['3', '281940292', 'WeatherBug - Local Weather, Radar, Maps, Alerts', '100524032', 'USD', '0', '188583', '2822', '3.5', '4.5', '5.0.0', '4+', 'Weather', '37', '5', '3', '1']\n",
      "\n",
      "\n",
      "['4', '282614216', 'eBay: Best App to Buy, Sell, Save! Online Shopping', '128512000', 'USD', '0', '262241', '649', '4', '4.5', '5.10.0', '12+', 'Shopping', '37', '5', '9', '1']\n",
      "\n",
      "\n",
      "Number of rows: 3222\n",
      "Number of columns: 17\n",
      "\n",
      "\n"
     ]
    }
   ],
   "source": [
    "google_final = []\n",
    "appstore_final = []\n",
    "\n",
    "for apps in data_google_english:\n",
    "    price_string = apps[7]\n",
    "    if price_string[0] == '$':\n",
    "        price_string = price_string[1:]\n",
    "        price = float(price_string)\n",
    "    else:\n",
    "        price = float(price_string)\n",
    "    if price == 0.0:\n",
    "        google_final.append(apps)\n",
    "        \n",
    "for apps in data_appstore_english:\n",
    "    price = float(apps[5])\n",
    "    if price == 0.0:\n",
    "        appstore_final.append(apps)\n",
    "        \n",
    "        \n",
    "explore_data(google_final,0,3, True)\n",
    "explore_data(appstore_final,0,3, True)"
   ]
  },
  {
   "cell_type": "markdown",
   "metadata": {},
   "source": [
    "The company policy for designing apps is:\n",
    "\n",
    " 1- Build a minimal Android version of the app, and add it to Google Play.\n",
    " \n",
    " 2- If the app has a good response from users, we develop it further.\n",
    " \n",
    " 3- If the app is profitable after six months, we build an iOS version of the app and add it to the App Store.\n",
    " \n",
    " Our goal is to find apps which are successful on both markets\n",
    " \n",
    " We will begin by building frequency tables for a few columns to see what the most common genres for each market are\n",
    " \n",
    " We first print a few rows with headers from each data sets to give us insights about which columns are we going to make frequency table for that.\n",
    " \n",
    " we are going to build frequency tables for the prime_genre column of App store data set and for the Genres and Category columns of the google play data set\n",
    "\n",
    " "
   ]
  },
  {
   "cell_type": "code",
   "execution_count": 15,
   "metadata": {},
   "outputs": [
    {
     "name": "stdout",
     "output_type": "stream",
     "text": [
      "[['App', 'Category', 'Rating', 'Reviews', 'Size', 'Installs', 'Type', 'Price', 'Content Rating', 'Genres', 'Last Updated', 'Current Ver', 'Android Ver']]\n",
      "\n",
      "\n",
      "['Photo Editor & Candy Camera & Grid & ScrapBook', 'ART_AND_DESIGN', '4.1', '159', '19M', '10,000+', 'Free', '0', 'Everyone', 'Art & Design', 'January 7, 2018', '1.0.0', '4.0.3 and up']\n",
      "\n",
      "\n",
      "['U Launcher Lite – FREE Live Cool Themes, Hide Apps', 'ART_AND_DESIGN', '4.7', '87510', '8.7M', '5,000,000+', 'Free', '0', 'Everyone', 'Art & Design', 'August 1, 2018', '1.2.4', '4.0.3 and up']\n",
      "\n",
      "\n",
      "['Sketch - Draw & Paint', 'ART_AND_DESIGN', '4.5', '215644', '25M', '50,000,000+', 'Free', '0', 'Teen', 'Art & Design', 'June 8, 2018', 'Varies with device', '4.2 and up']\n",
      "\n",
      "\n",
      "Number of rows: 8864\n",
      "Number of columns: 13\n",
      "\n",
      "\n",
      "[['', 'id', 'track_name', 'size_bytes', 'currency', 'price', 'rating_count_tot', 'rating_count_ver', 'user_rating', 'user_rating_ver', 'ver', 'cont_rating', 'prime_genre', 'sup_devices.num', 'ipadSc_urls.num', 'lang.num', 'vpp_lic']]\n",
      "\n",
      "\n",
      "['2', '281796108', 'Evernote - stay organized', '158578688', 'USD', '0', '161065', '26', '4', '3.5', '8.2.2', '4+', 'Productivity', '37', '5', '23', '1']\n",
      "\n",
      "\n",
      "['3', '281940292', 'WeatherBug - Local Weather, Radar, Maps, Alerts', '100524032', 'USD', '0', '188583', '2822', '3.5', '4.5', '5.0.0', '4+', 'Weather', '37', '5', '3', '1']\n",
      "\n",
      "\n",
      "['4', '282614216', 'eBay: Best App to Buy, Sell, Save! Online Shopping', '128512000', 'USD', '0', '262241', '649', '4', '4.5', '5.10.0', '12+', 'Shopping', '37', '5', '9', '1']\n",
      "\n",
      "\n",
      "Number of rows: 3222\n",
      "Number of columns: 17\n",
      "\n",
      "\n"
     ]
    }
   ],
   "source": [
    "print(google_header)\n",
    "print(\"\\n\")\n",
    "explore_data(google_final, 0, 3, rows_and_columns = True)\n",
    "\n",
    "print(appstore_header)\n",
    "print(\"\\n\")\n",
    "explore_data(appstore_final, 0, 3, rows_and_columns = True)"
   ]
  },
  {
   "cell_type": "markdown",
   "metadata": {},
   "source": [
    "First we defined a function which is responsible to generate frequency table and returns dictionary as tables."
   ]
  },
  {
   "cell_type": "code",
   "execution_count": 31,
   "metadata": {},
   "outputs": [],
   "source": [
    "def freq_table(dataset, index):\n",
    "    table = {}\n",
    "    total = 0\n",
    "    for apps in dataset:\n",
    "        total += 1\n",
    "        name = apps[index]\n",
    "        if name in table:\n",
    "            table[name] +=1\n",
    "        else:\n",
    "            table[name] = 1\n",
    "    \n",
    "    tabel_percentage = {}\n",
    "    for key in table:\n",
    "        percentage = (table[key] / total) * 100\n",
    "        tabel_percentage[key] = percentage \n",
    "        \n",
    "    return tabel_percentage\n",
    "    \n",
    "    "
   ]
  },
  {
   "cell_type": "markdown",
   "metadata": {},
   "source": [
    "Blow is a helper function which uses 'freq_table' function then uses the generated dictionary and makes list of tuples from it. Because in this case we can use sorted function to sort the frequency tables. Sorted built in function is not good with dictionaries"
   ]
  },
  {
   "cell_type": "code",
   "execution_count": 32,
   "metadata": {},
   "outputs": [],
   "source": [
    "def display_table(dataset, index):\n",
    "    table = freq_table(dataset, index)\n",
    "    table_display = []\n",
    "    for key in table:\n",
    "        key_val_as_tuple = (table[key], key)\n",
    "        table_display.append(key_val_as_tuple)\n",
    "\n",
    "    table_sorted = sorted(table_display, reverse = True)\n",
    "    for entry in table_sorted:\n",
    "        print(entry[1], ':', entry[0])"
   ]
  },
  {
   "cell_type": "markdown",
   "metadata": {},
   "source": [
    "We use the function above to display sorted frequency tables for the' prime_genre' column of App store data set and for the Genres and Category columns of the google play data set"
   ]
  },
  {
   "cell_type": "code",
   "execution_count": 36,
   "metadata": {},
   "outputs": [
    {
     "name": "stdout",
     "output_type": "stream",
     "text": [
      "for the prime_genre column of App store data set \n",
      "\n",
      "\n",
      "\n",
      "Games : 58.16263190564867\n",
      "Entertainment : 7.883302296710118\n",
      "Photo & Video : 4.9658597144630665\n",
      "Education : 3.662321539416512\n",
      "Social Networking : 3.2898820608317814\n",
      "Shopping : 2.60707635009311\n",
      "Utilities : 2.5139664804469275\n",
      "Sports : 2.1415270018621975\n",
      "Music : 2.0484171322160147\n",
      "Health & Fitness : 2.0173805090006205\n",
      "Productivity : 1.7380509000620732\n",
      "Lifestyle : 1.5828677839851024\n",
      "News : 1.3345747982619491\n",
      "Travel : 1.2414649286157666\n",
      "Finance : 1.1173184357541899\n",
      "Weather : 0.8690254500310366\n",
      "Food & Drink : 0.8069522036002483\n",
      "Reference : 0.5586592178770949\n",
      "Business : 0.5276225946617008\n",
      "Book : 0.4345127250155183\n",
      "Navigation : 0.186219739292365\n",
      "Medical : 0.186219739292365\n",
      "Catalogs : 0.12414649286157665\n",
      "\n",
      "\n"
     ]
    }
   ],
   "source": [
    "# for the prime_genre column of App store data set\n",
    "print(\"for the prime_genre column of App store data set \\n\")\n",
    "print(\"\\n\")\n",
    "display_table(appstore_final, 12)\n",
    "print(\"\\n\")"
   ]
  },
  {
   "cell_type": "markdown",
   "metadata": {},
   "source": [
    "Analysis for 'prime_genre' column of the App Store data set:\n",
    "\n",
    "The most common genre is Games with almost 60% of English apps and the runner-up with far distance is Entertainment apps with almost 8% followed by photos & video with almost 5% and etc. \n",
    "\n",
    "General impression about the App store English apps is most of the apps is for entertainment (games, photo and video, social networking, sports, music) rather than for practical purpose (education, shopping, utilities, productivity, lifestyle)\n",
    "\n",
    "However the number of fun apps do not imply that they have great number of users\n"
   ]
  },
  {
   "cell_type": "code",
   "execution_count": 34,
   "metadata": {},
   "outputs": [
    {
     "name": "stdout",
     "output_type": "stream",
     "text": [
      "for Category column of the google play data set \n",
      "\n",
      "\n",
      "\n",
      "FAMILY : 18.907942238267147\n",
      "GAME : 9.724729241877256\n",
      "TOOLS : 8.461191335740072\n",
      "BUSINESS : 4.591606498194946\n",
      "LIFESTYLE : 3.9034296028880866\n",
      "PRODUCTIVITY : 3.892148014440433\n",
      "FINANCE : 3.7003610108303246\n",
      "MEDICAL : 3.531137184115524\n",
      "SPORTS : 3.395758122743682\n",
      "PERSONALIZATION : 3.3167870036101084\n",
      "COMMUNICATION : 3.2378158844765346\n",
      "HEALTH_AND_FITNESS : 3.0798736462093865\n",
      "PHOTOGRAPHY : 2.944494584837545\n",
      "NEWS_AND_MAGAZINES : 2.7978339350180503\n",
      "SOCIAL : 2.6624548736462095\n",
      "TRAVEL_AND_LOCAL : 2.33528880866426\n",
      "SHOPPING : 2.2450361010830324\n",
      "BOOKS_AND_REFERENCE : 2.1435018050541514\n",
      "DATING : 1.861462093862816\n",
      "VIDEO_PLAYERS : 1.7937725631768955\n",
      "MAPS_AND_NAVIGATION : 1.3989169675090252\n",
      "FOOD_AND_DRINK : 1.2409747292418771\n",
      "EDUCATION : 1.1620036101083033\n",
      "ENTERTAINMENT : 0.9589350180505415\n",
      "LIBRARIES_AND_DEMO : 0.9363718411552346\n",
      "AUTO_AND_VEHICLES : 0.9250902527075812\n",
      "HOUSE_AND_HOME : 0.8235559566787004\n",
      "WEATHER : 0.8009927797833934\n",
      "EVENTS : 0.7107400722021661\n",
      "PARENTING : 0.6543321299638989\n",
      "ART_AND_DESIGN : 0.6430505415162455\n",
      "COMICS : 0.6204873646209386\n",
      "BEAUTY : 0.5979241877256317\n",
      "\n",
      "\n"
     ]
    }
   ],
   "source": [
    "# for Category column of the google play data set\n",
    "print(\"for Category column of the google play data set \\n\")\n",
    "print(\"\\n\")\n",
    "display_table(google_final, 1)\n",
    "print(\"\\n\")"
   ]
  },
  {
   "cell_type": "code",
   "execution_count": 35,
   "metadata": {},
   "outputs": [
    {
     "name": "stdout",
     "output_type": "stream",
     "text": [
      " for Genres column of the google play data set \n",
      "\n",
      "\n",
      "\n",
      "Tools : 8.449909747292418\n",
      "Entertainment : 6.069494584837545\n",
      "Education : 5.347472924187725\n",
      "Business : 4.591606498194946\n",
      "Productivity : 3.892148014440433\n",
      "Lifestyle : 3.892148014440433\n",
      "Finance : 3.7003610108303246\n",
      "Medical : 3.531137184115524\n",
      "Sports : 3.463447653429603\n",
      "Personalization : 3.3167870036101084\n",
      "Communication : 3.2378158844765346\n",
      "Action : 3.1024368231046933\n",
      "Health & Fitness : 3.0798736462093865\n",
      "Photography : 2.944494584837545\n",
      "News & Magazines : 2.7978339350180503\n",
      "Social : 2.6624548736462095\n",
      "Travel & Local : 2.3240072202166067\n",
      "Shopping : 2.2450361010830324\n",
      "Books & Reference : 2.1435018050541514\n",
      "Simulation : 2.0419675090252705\n",
      "Dating : 1.861462093862816\n",
      "Arcade : 1.8501805054151623\n",
      "Video Players & Editors : 1.7712093862815883\n",
      "Casual : 1.7599277978339352\n",
      "Maps & Navigation : 1.3989169675090252\n",
      "Food & Drink : 1.2409747292418771\n",
      "Puzzle : 1.128158844765343\n",
      "Racing : 0.9927797833935018\n",
      "Role Playing : 0.9363718411552346\n",
      "Libraries & Demo : 0.9363718411552346\n",
      "Auto & Vehicles : 0.9250902527075812\n",
      "Strategy : 0.9138086642599278\n",
      "House & Home : 0.8235559566787004\n",
      "Weather : 0.8009927797833934\n",
      "Events : 0.7107400722021661\n",
      "Adventure : 0.6768953068592057\n",
      "Comics : 0.6092057761732852\n",
      "Beauty : 0.5979241877256317\n",
      "Art & Design : 0.5979241877256317\n",
      "Parenting : 0.4963898916967509\n",
      "Card : 0.45126353790613716\n",
      "Casino : 0.42870036101083037\n",
      "Trivia : 0.41741877256317694\n",
      "Educational;Education : 0.39485559566787\n",
      "Board : 0.3835740072202166\n",
      "Educational : 0.3722924187725632\n",
      "Education;Education : 0.33844765342960287\n",
      "Word : 0.2594765342960289\n",
      "Casual;Pretend Play : 0.236913357400722\n",
      "Music : 0.2030685920577617\n",
      "Racing;Action & Adventure : 0.16922382671480143\n",
      "Puzzle;Brain Games : 0.16922382671480143\n",
      "Entertainment;Music & Video : 0.16922382671480143\n",
      "Casual;Brain Games : 0.13537906137184114\n",
      "Casual;Action & Adventure : 0.13537906137184114\n",
      "Arcade;Action & Adventure : 0.12409747292418773\n",
      "Action;Action & Adventure : 0.10153429602888085\n",
      "Educational;Pretend Play : 0.09025270758122744\n",
      "Simulation;Action & Adventure : 0.078971119133574\n",
      "Parenting;Education : 0.078971119133574\n",
      "Entertainment;Brain Games : 0.078971119133574\n",
      "Board;Brain Games : 0.078971119133574\n",
      "Parenting;Music & Video : 0.06768953068592057\n",
      "Educational;Brain Games : 0.06768953068592057\n",
      "Casual;Creativity : 0.06768953068592057\n",
      "Art & Design;Creativity : 0.06768953068592057\n",
      "Education;Pretend Play : 0.056407942238267145\n",
      "Role Playing;Pretend Play : 0.04512635379061372\n",
      "Education;Creativity : 0.04512635379061372\n",
      "Role Playing;Action & Adventure : 0.033844765342960284\n",
      "Puzzle;Action & Adventure : 0.033844765342960284\n",
      "Entertainment;Creativity : 0.033844765342960284\n",
      "Entertainment;Action & Adventure : 0.033844765342960284\n",
      "Educational;Creativity : 0.033844765342960284\n",
      "Educational;Action & Adventure : 0.033844765342960284\n",
      "Education;Music & Video : 0.033844765342960284\n",
      "Education;Brain Games : 0.033844765342960284\n",
      "Education;Action & Adventure : 0.033844765342960284\n",
      "Adventure;Action & Adventure : 0.033844765342960284\n",
      "Video Players & Editors;Music & Video : 0.02256317689530686\n",
      "Sports;Action & Adventure : 0.02256317689530686\n",
      "Simulation;Pretend Play : 0.02256317689530686\n",
      "Puzzle;Creativity : 0.02256317689530686\n",
      "Music;Music & Video : 0.02256317689530686\n",
      "Entertainment;Pretend Play : 0.02256317689530686\n",
      "Casual;Education : 0.02256317689530686\n",
      "Board;Action & Adventure : 0.02256317689530686\n",
      "Video Players & Editors;Creativity : 0.01128158844765343\n",
      "Trivia;Education : 0.01128158844765343\n",
      "Travel & Local;Action & Adventure : 0.01128158844765343\n",
      "Tools;Education : 0.01128158844765343\n",
      "Strategy;Education : 0.01128158844765343\n",
      "Strategy;Creativity : 0.01128158844765343\n",
      "Strategy;Action & Adventure : 0.01128158844765343\n",
      "Simulation;Education : 0.01128158844765343\n",
      "Role Playing;Brain Games : 0.01128158844765343\n",
      "Racing;Pretend Play : 0.01128158844765343\n",
      "Puzzle;Education : 0.01128158844765343\n",
      "Parenting;Brain Games : 0.01128158844765343\n",
      "Music & Audio;Music & Video : 0.01128158844765343\n",
      "Lifestyle;Pretend Play : 0.01128158844765343\n",
      "Lifestyle;Education : 0.01128158844765343\n",
      "Health & Fitness;Education : 0.01128158844765343\n",
      "Health & Fitness;Action & Adventure : 0.01128158844765343\n",
      "Entertainment;Education : 0.01128158844765343\n",
      "Communication;Creativity : 0.01128158844765343\n",
      "Comics;Creativity : 0.01128158844765343\n",
      "Casual;Music & Video : 0.01128158844765343\n",
      "Card;Action & Adventure : 0.01128158844765343\n",
      "Books & Reference;Education : 0.01128158844765343\n",
      "Art & Design;Pretend Play : 0.01128158844765343\n",
      "Art & Design;Action & Adventure : 0.01128158844765343\n",
      "Arcade;Pretend Play : 0.01128158844765343\n",
      "Adventure;Education : 0.01128158844765343\n",
      "\n",
      "\n"
     ]
    }
   ],
   "source": [
    "# for Genres column of the google play data set\n",
    "print(\" for Genres column of the google play data set \\n\")\n",
    "print(\"\\n\")\n",
    "display_table(google_final, 9)\n",
    "print(\"\\n\")"
   ]
  },
  {
   "cell_type": "markdown",
   "metadata": {},
   "source": [
    "Analysis for Category and Genres columns of google play store English apps:\n",
    "\n",
    "As we can see here is a bit different from App store there is a balance between practical apps and fun apps \n",
    "\n",
    "Therefore as we analyzed App sore is mostly have apps for fun rather than practical apps but the deal in google play store is a bit different it actually balanced between practical and fun apps\n",
    "\n",
    "But we can't state from this analysis that which apps have more users we need more investigation\n",
    "\n",
    "Finding most popular apps:\n",
    "\n",
    "To find most popular apps (most users) we need to calculate the average number of installs for each app genre. There is an installs columns in google play data set. But there is no such that column in App store data set we can use 'rating_count_tot' column for this purpose.\n",
    "\n",
    "In the code blow we computed average number of users for genre in App store data se also we sorted the table to have better view\n",
    "\n"
   ]
  },
  {
   "cell_type": "code",
   "execution_count": 51,
   "metadata": {},
   "outputs": [
    {
     "name": "stdout",
     "output_type": "stream",
     "text": [
      "Navigation : 86090.33333333333\n",
      "Reference : 74942.11111111111\n",
      "Social Networking : 71548.34905660378\n",
      "Music : 57326.530303030304\n",
      "Weather : 52279.892857142855\n",
      "Book : 39758.5\n",
      "Food & Drink : 33333.92307692308\n",
      "Finance : 31467.944444444445\n",
      "Photo & Video : 28441.54375\n",
      "Travel : 28243.8\n",
      "Shopping : 26919.690476190477\n",
      "Health & Fitness : 23298.015384615384\n",
      "Sports : 23008.898550724636\n",
      "Games : 22788.6696905016\n",
      "News : 21248.023255813954\n",
      "Productivity : 21028.410714285714\n",
      "Utilities : 18684.456790123455\n",
      "Lifestyle : 16485.764705882353\n",
      "Entertainment : 14029.830708661417\n",
      "Business : 7491.117647058823\n",
      "Education : 7003.983050847458\n",
      "Catalogs : 4004.0\n",
      "Medical : 612.0\n"
     ]
    }
   ],
   "source": [
    "prime_genre = freq_table(appstore_final, 12)\n",
    "\n",
    "popular_apps_appstore = {}\n",
    "\n",
    "for genre in prime_genre:\n",
    "    Total = 0\n",
    "    Lenghs = 0\n",
    "    \n",
    "    for apps in appstore_final:\n",
    "        name = apps[12]\n",
    "        if name == genre:\n",
    "            Total += float(apps[6])\n",
    "            Lenghs += 1\n",
    "            \n",
    "    Avergae_per_genre = Total / Lenghs\n",
    "    popular_apps_appstore[genre] = Avergae_per_genre\n",
    "    \n",
    "table_display = []\n",
    "for key in popular_apps_appstore:\n",
    "    key_val_as_tuple = (popular_apps_appstore[key], key)\n",
    "    table_display.append(key_val_as_tuple)\n",
    "\n",
    "table_sorted = sorted(table_display, reverse = True)\n",
    "for entry in table_sorted:\n",
    "    print(entry[1], ':', entry[0])\n",
    "    \n",
    "    "
   ]
  },
  {
   "cell_type": "markdown",
   "metadata": {},
   "source": [
    "As you can see in results the navigation apps has the most users in compare to others after that reference apps following by Social Networking apps. but as we know there is just few very famous apps like Waze and Google map for navigation and Facebook, Instagram and Twitter witch have numerous users and that makes both genres average very high.\n",
    "\n",
    "In the next step we are going to find the average number of installations for google play apps witch all of the indicated like these: 100,000+. which is not precise but we leave numbers like that and we will try to remove \"+\" an \",\" for each number.\n",
    "\n"
   ]
  },
  {
   "cell_type": "code",
   "execution_count": 61,
   "metadata": {},
   "outputs": [
    {
     "name": "stdout",
     "output_type": "stream",
     "text": [
      "COMMUNICATION : 38456119.167247385\n",
      "VIDEO_PLAYERS : 24727872.452830188\n",
      "SOCIAL : 23253652.127118643\n",
      "PHOTOGRAPHY : 17840110.40229885\n",
      "PRODUCTIVITY : 16787331.344927534\n",
      "GAME : 15588015.603248259\n",
      "TRAVEL_AND_LOCAL : 13984077.710144928\n",
      "ENTERTAINMENT : 11640705.88235294\n",
      "TOOLS : 10801391.298666667\n",
      "NEWS_AND_MAGAZINES : 9549178.467741935\n",
      "BOOKS_AND_REFERENCE : 8767811.894736841\n",
      "SHOPPING : 7036877.311557789\n",
      "PERSONALIZATION : 5201482.6122448975\n",
      "WEATHER : 5074486.197183099\n",
      "HEALTH_AND_FITNESS : 4188821.9853479853\n",
      "MAPS_AND_NAVIGATION : 4056941.7741935486\n",
      "FAMILY : 3695641.8198090694\n",
      "SPORTS : 3638640.1428571427\n",
      "ART_AND_DESIGN : 1986335.0877192982\n",
      "FOOD_AND_DRINK : 1924897.7363636363\n",
      "EDUCATION : 1833495.145631068\n",
      "BUSINESS : 1712290.1474201474\n",
      "LIFESTYLE : 1437816.2687861272\n",
      "FINANCE : 1387692.475609756\n",
      "HOUSE_AND_HOME : 1331540.5616438356\n",
      "DATING : 854028.8303030303\n",
      "COMICS : 817657.2727272727\n",
      "AUTO_AND_VEHICLES : 647317.8170731707\n",
      "LIBRARIES_AND_DEMO : 638503.734939759\n",
      "PARENTING : 542603.6206896552\n",
      "BEAUTY : 513151.88679245283\n",
      "EVENTS : 253542.22222222222\n",
      "MEDICAL : 120550.61980830671\n"
     ]
    }
   ],
   "source": [
    "catagory_table = freq_table(google_final, 1)\n",
    "#print(catagory_table)\n",
    "\n",
    "popular_apps_google = {}\n",
    "\n",
    "for catagory in catagory_table:\n",
    "    Total = 0\n",
    "    Lenghs = 0\n",
    "    for apps in google_final:\n",
    "        name = apps[1]\n",
    "        n_installs = apps[5]\n",
    "        n_installs = n_installs.replace('+', '')\n",
    "        n_installs = n_installs.replace(',', '')\n",
    "        n_installs = float(n_installs)\n",
    "        if name == catagory:\n",
    "            Total += n_installs\n",
    "            Lenghs += 1\n",
    "         \n",
    "    avrage_installs = Total / Lenghs\n",
    "    popular_apps_google[catagory] = avrage_installs\n",
    "    \n",
    "table_display = []\n",
    "for key in popular_apps_google:\n",
    "    key_val_as_tuple = (popular_apps_google[key], key)\n",
    "    table_display.append(key_val_as_tuple)\n",
    "\n",
    "table_sorted = sorted(table_display, reverse = True)\n",
    "for entry in table_sorted:\n",
    "    print(entry[1], ':', entry[0])\n",
    "        "
   ]
  },
  {
   "cell_type": "markdown",
   "metadata": {},
   "source": [
    "As you can see in above the communication apps have the most average installs then video players and then social category. The huge number for communication is because of few very popular apps like WhatsApp Facebook skype and etc.\n",
    "Next for more information we are going to compute most popular apps with genre columns\n"
   ]
  },
  {
   "cell_type": "code",
   "execution_count": 64,
   "metadata": {},
   "outputs": [
    {
     "name": "stdout",
     "output_type": "stream",
     "text": [
      "Communication : 38456119.167247385\n",
      "Adventure;Action & Adventure : 35333333.333333336\n",
      "Video Players & Editors : 24947335.796178345\n",
      "Social : 23253652.127118643\n",
      "Arcade : 22888365.48780488\n",
      "Casual : 19569221.602564104\n",
      "Puzzle;Action & Adventure : 18366666.666666668\n",
      "Photography : 17840110.40229885\n",
      "Educational;Action & Adventure : 17016666.666666668\n",
      "Productivity : 16787331.344927534\n",
      "Racing : 15910645.681818182\n",
      "Travel & Local : 14051476.145631067\n",
      "Casual;Action & Adventure : 12916666.666666666\n",
      "Action : 12603588.872727273\n",
      "Strategy : 11199902.530864198\n",
      "Tools : 10802461.246995995\n",
      "Tools;Education : 10000000.0\n",
      "Role Playing;Brain Games : 10000000.0\n",
      "Lifestyle;Pretend Play : 10000000.0\n",
      "Casual;Music & Video : 10000000.0\n",
      "Card;Action & Adventure : 10000000.0\n",
      "Adventure;Education : 10000000.0\n",
      "News & Magazines : 9549178.467741935\n",
      "Music : 9445583.333333334\n",
      "Educational;Pretend Play : 9375000.0\n",
      "Puzzle;Brain Games : 9280666.666666666\n",
      "Word : 9094458.695652174\n",
      "Racing;Action & Adventure : 8816666.666666666\n",
      "Books & Reference : 8767811.894736841\n",
      "Puzzle : 8302861.91\n",
      "Video Players & Editors;Music & Video : 7500000.0\n",
      "Shopping : 7036877.311557789\n",
      "Role Playing;Action & Adventure : 7000000.0\n",
      "Casual;Pretend Play : 6957142.857142857\n",
      "Entertainment;Music & Video : 6413333.333333333\n",
      "Action;Action & Adventure : 5888888.888888889\n",
      "Entertainment : 5602792.775092937\n",
      "Education;Brain Games : 5333333.333333333\n",
      "Casual;Creativity : 5333333.333333333\n",
      "Role Playing;Pretend Play : 5275000.0\n",
      "Personalization : 5201482.6122448975\n",
      "Weather : 5074486.197183099\n",
      "Sports;Action & Adventure : 5050000.0\n",
      "Music;Music & Video : 5050000.0\n",
      "Video Players & Editors;Creativity : 5000000.0\n",
      "Adventure : 4922785.333333333\n",
      "Simulation;Action & Adventure : 4857142.857142857\n",
      "Education;Education : 4759517.0\n",
      "Board : 4759209.117647059\n",
      "Sports : 4596842.615635179\n",
      "Educational;Brain Games : 4433333.333333333\n",
      "Health & Fitness : 4188821.9853479853\n",
      "Maps & Navigation : 4056941.7741935486\n",
      "Entertainment;Creativity : 4000000.0\n",
      "Role Playing : 3965645.421686747\n",
      "Card : 3815462.5\n",
      "Trivia : 3475712.7027027025\n",
      "Simulation : 3475484.08839779\n",
      "Casino : 3427910.5263157897\n",
      "Entertainment;Brain Games : 3314285.714285714\n",
      "Arcade;Action & Adventure : 3190909.1818181816\n",
      "Entertainment;Pretend Play : 3000000.0\n",
      "Board;Action & Adventure : 3000000.0\n",
      "Education;Creativity : 2875000.0\n",
      "Entertainment;Action & Adventure : 2333333.3333333335\n",
      "Educational;Creativity : 2333333.3333333335\n",
      "Art & Design : 2122850.9433962265\n",
      "Education;Music & Video : 2033333.3333333333\n",
      "Food & Drink : 1924897.7363636363\n",
      "Education;Pretend Play : 1800000.0\n",
      "Educational;Education : 1737143.142857143\n",
      "Business : 1712290.1474201474\n",
      "Casual;Brain Games : 1425916.6666666667\n",
      "Lifestyle : 1412998.3449275363\n",
      "Finance : 1387692.475609756\n",
      "House & Home : 1331540.5616438356\n",
      "Parenting;Music & Video : 1118333.3333333333\n",
      "Strategy;Creativity : 1000000.0\n",
      "Strategy;Action & Adventure : 1000000.0\n",
      "Racing;Pretend Play : 1000000.0\n",
      "Parenting;Brain Games : 1000000.0\n",
      "Health & Fitness;Action & Adventure : 1000000.0\n",
      "Entertainment;Education : 1000000.0\n",
      "Education;Action & Adventure : 1000000.0\n",
      "Casual;Education : 1000000.0\n",
      "Arcade;Pretend Play : 1000000.0\n",
      "Dating : 854028.8303030303\n",
      "Comics : 831873.1481481482\n",
      "Puzzle;Creativity : 750000.0\n",
      "Auto & Vehicles : 647317.8170731707\n",
      "Libraries & Demo : 638503.734939759\n",
      "Education : 550185.4430379746\n",
      "Simulation;Pretend Play : 550000.0\n",
      "Beauty : 513151.88679245283\n",
      "Strategy;Education : 500000.0\n",
      "Music & Audio;Music & Video : 500000.0\n",
      "Communication;Creativity : 500000.0\n",
      "Art & Design;Pretend Play : 500000.0\n",
      "Parenting : 467977.5\n",
      "Parenting;Education : 452857.14285714284\n",
      "Educational : 411184.8484848485\n",
      "Board;Brain Games : 407142.85714285716\n",
      "Art & Design;Creativity : 285000.0\n",
      "Events : 253542.22222222222\n",
      "Medical : 120550.61980830671\n",
      "Travel & Local;Action & Adventure : 100000.0\n",
      "Puzzle;Education : 100000.0\n",
      "Lifestyle;Education : 100000.0\n",
      "Health & Fitness;Education : 100000.0\n",
      "Art & Design;Action & Adventure : 100000.0\n",
      "Comics;Creativity : 50000.0\n",
      "Books & Reference;Education : 1000.0\n",
      "Simulation;Education : 500.0\n",
      "Trivia;Education : 100.0\n"
     ]
    }
   ],
   "source": [
    "genre_table = freq_table(google_final, 9)\n",
    "#print(catagory_table\n",
    "\n",
    "popular_apps_google_2 = {}\n",
    "\n",
    "for genre in genre_table:\n",
    "    Total = 0\n",
    "    Lenghs = 0\n",
    "    for apps in google_final:\n",
    "        name = apps[9]\n",
    "        n_installs = apps[5]\n",
    "        n_installs = n_installs.replace('+', '')\n",
    "        n_installs = n_installs.replace(',', '')\n",
    "        n_installs = float(n_installs)\n",
    "        if name == genre:\n",
    "            Total += n_installs\n",
    "            Lenghs += 1\n",
    "         \n",
    "    avrage_installs_2 = Total / Lenghs\n",
    "    popular_apps_google_2[genre] = avrage_installs_2\n",
    "    \n",
    "table_display = []\n",
    "for key in popular_apps_google_2:\n",
    "    key_val_as_tuple = (popular_apps_google_2[key], key)\n",
    "    table_display.append(key_val_as_tuple)\n",
    "\n",
    "table_sorted = sorted(table_display, reverse = True)\n",
    "for entry in table_sorted:\n",
    "    print(entry[1], ':', entry[0])"
   ]
  },
  {
   "cell_type": "markdown",
   "metadata": {},
   "source": [
    "Again as we can see the top popular apps is communication. It shows market dominated mostly by very huge and popular apps like Facebook and etc. so it is very difficult to compete with them in this market so we should choose other categories"
   ]
  },
  {
   "cell_type": "code",
   "execution_count": 68,
   "metadata": {},
   "outputs": [
    {
     "name": "stdout",
     "output_type": "stream",
     "text": [
      "Magic Tiles 3 :  50,000,000+\n",
      "Kids Balloon Pop Game Free 🎈 :  10,000,000+\n",
      "Cartoon Network App :  10,000,000+\n",
      "Cardi B Piano Game :  10,000+\n",
      "Perfect Piano :  50,000,000+\n",
      "J Balvin Piano Tiles :  500+\n",
      "Magic Tiles - TWICE Edition (K-Pop) :  100,000+\n",
      "Magic Tiles - Blackpink Edition (K-Pop) :  100,000+\n",
      "DJMAX TECHNIKA Q - Music Game :  100,000+\n",
      "Au Mobile: Audition Chính Hiệu :  1,000,000+\n",
      "AU Mobile Indonesia :  1,000,000+\n",
      "Au-allstar for KR :  100,000+\n",
      "Super Dancer VN :  500,000+\n",
      "Love Dance :  1,000,000+\n",
      "Avatar Musik :  1,000,000+\n",
      "Masha and The Bear :  5,000,000+\n",
      "RIDE ZERO :  100,000+\n",
      "Cytus :  5,000,000+\n",
      "Just Dance Now :  10,000,000+\n",
      "Piano Free - Keyboard with Magic Tiles Music Games :  50,000,000+\n",
      "Dr Dre - Beatmaker :  10,000+\n"
     ]
    }
   ],
   "source": [
    "app_music = []\n",
    "for apps in google_final:\n",
    "    if apps[9] == 'Casual;Music & Video' or apps[9] == 'Music' or apps[9] == 'Video Players & Editors;Music & Video':\n",
    "        app_music.append(apps)\n",
    "        print(apps[0], ': ', apps[5])\n",
    "\n",
    "#list_music = sorted(app_music, reverse = True)\n",
    "\n",
    "#for apps in list_music:\n",
    " "
   ]
  },
  {
   "cell_type": "code",
   "execution_count": 71,
   "metadata": {},
   "outputs": [
    {
     "name": "stdout",
     "output_type": "stream",
     "text": [
      "Pandora - Music & Radio :  1126879\n",
      "Shazam - Discover music, artists, videos & lyrics :  402925\n",
      "iHeartRadio – Free Music & Radio Stations :  293228\n",
      "Deezer - Listen to your Favorite Music & Playlists :  4677\n",
      "Sonos Controller :  48905\n",
      "NRJ Radio :  38\n",
      "radio.de - Der Radioplayer :  64\n",
      "Spotify Music :  878563\n",
      "SoundCloud - Music & Audio :  135744\n",
      "Sing Karaoke Songs Unlimited with StarMaker :  26227\n",
      "SoundHound Song Search & Music Player :  82602\n",
      "Ringtones for iPhone & Ringtone Maker :  25403\n",
      "Coach Guitar - Lessons & Easy Tabs For Beginners :  2416\n",
      "TuneIn Radio - MLB NBA Audiobooks Podcasts Music :  110420\n",
      "Magic Piano by Smule :  131695\n",
      "QQ音乐HD :  224\n",
      "The Singing Machine Mobile Karaoke App :  130\n",
      "Bandsintown Concerts :  30845\n",
      "PetitLyrics :  0\n",
      "edjing Mix:DJ turntable to remix and scratch music :  13580\n",
      "Smule Sing! :  119316\n",
      "Amazon Music :  106235\n",
      "AutoRap by Smule :  18202\n",
      "My Mixtapez Music :  26286\n",
      "Certified Mixtapes - Hip Hop Albums & Mixtapes :  9975\n",
      "Karaoke - Sing Karaoke, Unlimited Songs! :  28606\n",
      "Napster - Top Music & Radio :  14268\n",
      "Musi - Unlimited Music For YouTube :  25193\n",
      "UE BOOM :  612\n",
      "Spinrilla - Mixtapes For Free :  15053\n",
      "Google Play Music :  10118\n",
      "Piano - Play Keyboard Music Games with Magic Tiles :  1636\n",
      "Bose SoundTouch :  3687\n",
      "DatPiff :  2815\n",
      "Sounds app - Music And Friends :  5126\n",
      "Smart Music: Streaming Videos and Radio :  17\n",
      "Free Piano app by Yokee :  13016\n",
      "Simple Radio - Live AM & FM Radio Stations :  4787\n",
      "Trebel Music - Unlimited Music Downloader :  2570\n",
      "TIDAL :  7398\n",
      "Acapella from PicPlayPost :  2487\n",
      "Medly - Music Maker :  933\n",
      "Amazon Alexa :  3018\n",
      "Music Freedom - Unlimited Free MP3 Music Streaming :  1246\n",
      "PlayGround • Music At Your Fingertips :  150\n",
      "Musical Video Maker - Create Music clips lip sync :  320\n",
      "Free Music Play - Mp3 Streamer & Player :  2496\n",
      "LiveMixtapes :  555\n",
      "AmpMe - A Portable Social Party Music Speaker :  1047\n",
      "NOISE :  355\n",
      "YouTube Music :  7109\n",
      "Ringtones for iPhone with Ringtone Maker :  4013\n",
      "Music Memos :  909\n",
      "Musicloud - MP3 and FLAC Music Player for Cloud Platforms. :  2211\n",
      "Bose Connect :  915\n",
      "Cloud Music Player - Downloader & Playlist Manager :  319\n",
      "Remixlive - Remix loops with pads :  288\n",
      "Free Music -  Player & Streamer  for Dropbox, OneDrive & Google Drive :  46\n",
      "Boom: Best Equalizer & Magical Surround Sound :  1375\n",
      "MP3 Music Player & Streamer for Clouds :  329\n",
      "Nicki Minaj: The Empire :  5196\n",
      "SongFlip - Free Music Streamer :  5004\n",
      "Blocs Wave - Make & Record Music :  158\n",
      "Music and Chill :  135\n",
      "Free Music - MP3 Streamer & Playlist Manager Pro :  13443\n",
      "BOSS Tuner :  13\n"
     ]
    }
   ],
   "source": [
    "\n",
    "for apps in appstore_final:\n",
    "    if apps[12] == 'Music' :\n",
    "        print(apps[2], ': ', apps[6])"
   ]
  },
  {
   "cell_type": "markdown",
   "metadata": {},
   "source": [
    "As we can see there is a lot of music apps in google play and App store mostly App store and some of them are very popular which dominated the part of market but in my idea not all of them. \n",
    "\n",
    "I think building a new and creative app in this filed would be profitable. Music players markets actually dominated and nothing left we need new thing in this filed such as learning music learning instruments in a very basic way. \n",
    "\n",
    "## Conclusions\n",
    "\n",
    "We analyzed applications data for App store apps and google play apps to find the profitable apps to make and develop\n",
    "\n",
    "I came up with idea of making music apps not players actually. But mostly music learning apps like learning new instruments or music theory and etc.\n",
    "\n",
    "\n"
   ]
  },
  {
   "cell_type": "code",
   "execution_count": null,
   "metadata": {},
   "outputs": [],
   "source": []
  }
 ],
 "metadata": {
  "kernelspec": {
   "display_name": "Python 3",
   "language": "python",
   "name": "python3"
  },
  "language_info": {
   "codemirror_mode": {
    "name": "ipython",
    "version": 3
   },
   "file_extension": ".py",
   "mimetype": "text/x-python",
   "name": "python",
   "nbconvert_exporter": "python",
   "pygments_lexer": "ipython3",
   "version": "3.6.5"
  }
 },
 "nbformat": 4,
 "nbformat_minor": 2
}
